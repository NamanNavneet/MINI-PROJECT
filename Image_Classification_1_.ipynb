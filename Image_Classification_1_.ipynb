{
  "nbformat": 4,
  "nbformat_minor": 0,
  "metadata": {
    "colab": {
      "name": "Image Classification 2 .ipynb",
      "provenance": [],
      "collapsed_sections": [],
      "authorship_tag": "ABX9TyOI4/Tb+B/Y/t86UhuYcNPq",
      "include_colab_link": true
    },
    "kernelspec": {
      "name": "python3",
      "display_name": "Python 3"
    },
    "language_info": {
      "name": "python"
    }
  },
  "cells": [
    {
      "cell_type": "markdown",
      "metadata": {
        "id": "view-in-github",
        "colab_type": "text"
      },
      "source": [
        "<a href=\"https://colab.research.google.com/github/NamanNavneet/MINI-PROJECT/blob/main/Image_Classification_1_.ipynb\" target=\"_parent\"><img src=\"https://colab.research.google.com/assets/colab-badge.svg\" alt=\"Open In Colab\"/></a>"
      ]
    },
    {
      "cell_type": "code",
      "metadata": {
        "colab": {
          "base_uri": "https://localhost:8080/"
        },
        "id": "95vZ2fEXioLZ",
        "outputId": "24e11e3f-f0d6-47dc-f580-99e7b4dfc8ab"
      },
      "source": [
        "!pip install bing-image-downloader"
      ],
      "execution_count": 2,
      "outputs": [
        {
          "output_type": "stream",
          "text": [
            "Collecting bing-image-downloader\n",
            "  Downloading https://files.pythonhosted.org/packages/2c/f9/e827c690d0df1ec2f2f27cf0fb3d1f944c5c56253f8d3750ccaff051b3d3/bing_image_downloader-1.1.0-py3-none-any.whl\n",
            "Installing collected packages: bing-image-downloader\n",
            "Successfully installed bing-image-downloader-1.1.0\n"
          ],
          "name": "stdout"
        }
      ]
    },
    {
      "cell_type": "code",
      "metadata": {
        "id": "mdIWQwFejYHD"
      },
      "source": [
        "!mkdir images"
      ],
      "execution_count": 3,
      "outputs": []
    },
    {
      "cell_type": "code",
      "metadata": {
        "colab": {
          "base_uri": "https://localhost:8080/"
        },
        "id": "BMSpdzAFjhmw",
        "outputId": "7f97f602-9b62-423b-de4b-08f10a4a9228"
      },
      "source": [
        "from bing_image_downloader import downloader\n",
        "downloader.download(\"humans\",limit=50,output_dir=\"images\",adult_filter_off=True)"
      ],
      "execution_count": 4,
      "outputs": [
        {
          "output_type": "stream",
          "text": [
            "[%] Downloading Images to /content/images/humans\n",
            "\n",
            "\n",
            "[!!]Indexing page: 1\n",
            "\n",
            "[%] Indexed 50 Images on Page 1.\n",
            "\n",
            "===============================================\n",
            "\n",
            "[%] Downloading Image #1 from https://images.amcnetworks.com/amc.com/wp-content/uploads/2015/06/humans-season-2-niska-berrington-800x600.jpg\n",
            "[%] File Downloaded !\n",
            "\n",
            "[%] Downloading Image #2 from https://mir-s3-cdn-cf.behance.net/project_modules/max_1200/12cbb689447369.5df4d3f4046d1.jpeg\n",
            "[Error]Invalid image, not saving https://mir-s3-cdn-cf.behance.net/project_modules/max_1200/12cbb689447369.5df4d3f4046d1.jpeg\n",
            "\n",
            "[!] Issue getting: https://mir-s3-cdn-cf.behance.net/project_modules/max_1200/12cbb689447369.5df4d3f4046d1.jpeg\n",
            "[!] Error:: Invalid image, not saving https://mir-s3-cdn-cf.behance.net/project_modules/max_1200/12cbb689447369.5df4d3f4046d1.jpeg\n",
            "\n",
            "[%] Downloading Image #2 from https://mir-s3-cdn-cf.behance.net/project_modules/max_1200/d7f6bf89447369.5df4d759b0d01.jpeg\n",
            "[Error]Invalid image, not saving https://mir-s3-cdn-cf.behance.net/project_modules/max_1200/d7f6bf89447369.5df4d759b0d01.jpeg\n",
            "\n",
            "[!] Issue getting: https://mir-s3-cdn-cf.behance.net/project_modules/max_1200/d7f6bf89447369.5df4d759b0d01.jpeg\n",
            "[!] Error:: Invalid image, not saving https://mir-s3-cdn-cf.behance.net/project_modules/max_1200/d7f6bf89447369.5df4d759b0d01.jpeg\n",
            "\n",
            "[%] Downloading Image #2 from https://mir-s3-cdn-cf.behance.net/project_modules/max_1200/06666a89447369.5df4d75a11ddb.jpeg\n",
            "[Error]Invalid image, not saving https://mir-s3-cdn-cf.behance.net/project_modules/max_1200/06666a89447369.5df4d75a11ddb.jpeg\n",
            "\n",
            "[!] Issue getting: https://mir-s3-cdn-cf.behance.net/project_modules/max_1200/06666a89447369.5df4d75a11ddb.jpeg\n",
            "[!] Error:: Invalid image, not saving https://mir-s3-cdn-cf.behance.net/project_modules/max_1200/06666a89447369.5df4d75a11ddb.jpeg\n",
            "\n",
            "[%] Downloading Image #2 from https://mir-s3-cdn-cf.behance.net/project_modules/max_1200/f1e58f89447369.5df4d3f403fa4.jpeg\n",
            "[Error]Invalid image, not saving https://mir-s3-cdn-cf.behance.net/project_modules/max_1200/f1e58f89447369.5df4d3f403fa4.jpeg\n",
            "\n",
            "[!] Issue getting: https://mir-s3-cdn-cf.behance.net/project_modules/max_1200/f1e58f89447369.5df4d3f403fa4.jpeg\n",
            "[!] Error:: Invalid image, not saving https://mir-s3-cdn-cf.behance.net/project_modules/max_1200/f1e58f89447369.5df4d3f403fa4.jpeg\n",
            "\n",
            "[%] Downloading Image #2 from https://mir-s3-cdn-cf.behance.net/project_modules/1400/39f46c89447369.5df4d96528619.png\n",
            "[%] File Downloaded !\n",
            "\n",
            "[%] Downloading Image #3 from https://mir-s3-cdn-cf.behance.net/project_modules/max_1200/def57489447369.5df4d759b0647.jpeg\n",
            "[Error]Invalid image, not saving https://mir-s3-cdn-cf.behance.net/project_modules/max_1200/def57489447369.5df4d759b0647.jpeg\n",
            "\n",
            "[!] Issue getting: https://mir-s3-cdn-cf.behance.net/project_modules/max_1200/def57489447369.5df4d759b0647.jpeg\n",
            "[!] Error:: Invalid image, not saving https://mir-s3-cdn-cf.behance.net/project_modules/max_1200/def57489447369.5df4d759b0647.jpeg\n",
            "\n",
            "[%] Downloading Image #3 from https://mir-s3-cdn-cf.behance.net/project_modules/max_1200/5ec19489447369.5df4d3f39317c.jpeg\n",
            "[Error]Invalid image, not saving https://mir-s3-cdn-cf.behance.net/project_modules/max_1200/5ec19489447369.5df4d3f39317c.jpeg\n",
            "\n",
            "[!] Issue getting: https://mir-s3-cdn-cf.behance.net/project_modules/max_1200/5ec19489447369.5df4d3f39317c.jpeg\n",
            "[!] Error:: Invalid image, not saving https://mir-s3-cdn-cf.behance.net/project_modules/max_1200/5ec19489447369.5df4d3f39317c.jpeg\n",
            "\n",
            "[%] Downloading Image #3 from https://mir-s3-cdn-cf.behance.net/project_modules/max_1200/0c4bbe89447369.5df4d3f392a5d.jpeg\n",
            "[Error]Invalid image, not saving https://mir-s3-cdn-cf.behance.net/project_modules/max_1200/0c4bbe89447369.5df4d3f392a5d.jpeg\n",
            "\n",
            "[!] Issue getting: https://mir-s3-cdn-cf.behance.net/project_modules/max_1200/0c4bbe89447369.5df4d3f392a5d.jpeg\n",
            "[!] Error:: Invalid image, not saving https://mir-s3-cdn-cf.behance.net/project_modules/max_1200/0c4bbe89447369.5df4d3f392a5d.jpeg\n",
            "\n",
            "[%] Downloading Image #3 from https://www.conferencesthatwork.com/wp-content/uploads/2021/05/Social-learning-comparison-1.jpg\n",
            "[%] File Downloaded !\n",
            "\n",
            "[%] Downloading Image #4 from https://s3.amazonaws.com/media-p.slid.es/uploads/noahr/images/1086221/toddler_boy.jpg\n",
            "[%] File Downloaded !\n",
            "\n",
            "[%] Downloading Image #5 from https://mir-s3-cdn-cf.behance.net/project_modules/1400/fca38589447369.5df98f5add75a.png\n",
            "[%] File Downloaded !\n",
            "\n",
            "[%] Downloading Image #6 from https://mir-s3-cdn-cf.behance.net/project_modules/1400/45b81389447369.5df4da275e477.png\n",
            "[%] File Downloaded !\n",
            "\n",
            "[%] Downloading Image #7 from https://i.pinimg.com/originals/1e/22/98/1e22980226c3537ba6e5e620848db909.jpg\n",
            "[%] File Downloaded !\n",
            "\n",
            "[%] Downloading Image #8 from https://res.cloudinary.com/dwzmsvp7f/image/fetch/q_75,f_auto,w_1316/https:%2F%2Fmedia.insider.in%2Fimage%2Fupload%2Fc_crop%2Cg_custom%2Fv1594627093%2Fjcfbvzwmko61wkelrxgi.jpg\n",
            "[%] File Downloaded !\n",
            "\n",
            "[%] Downloading Image #9 from https://kintopia.kintone.com/2019/10/images/img-801.jpg\n",
            "[%] File Downloaded !\n",
            "\n",
            "[%] Downloading Image #10 from https://mir-s3-cdn-cf.behance.net/project_modules/disp/c3687c89447369.5df4d2a9e9abf.jpeg\n",
            "[Error]Invalid image, not saving https://mir-s3-cdn-cf.behance.net/project_modules/disp/c3687c89447369.5df4d2a9e9abf.jpeg\n",
            "\n",
            "[!] Issue getting: https://mir-s3-cdn-cf.behance.net/project_modules/disp/c3687c89447369.5df4d2a9e9abf.jpeg\n",
            "[!] Error:: Invalid image, not saving https://mir-s3-cdn-cf.behance.net/project_modules/disp/c3687c89447369.5df4d2a9e9abf.jpeg\n",
            "\n",
            "[%] Downloading Image #10 from https://i.pinimg.com/200x150/d5/11/e0/d511e067415e942b3ce48325db1a8a06.jpg\n",
            "[%] File Downloaded !\n",
            "\n",
            "[%] Downloading Image #11 from https://mir-s3-cdn-cf.behance.net/project_modules/1400/f4223389447369.5df98f5cb5e48.png\n",
            "[%] File Downloaded !\n",
            "\n",
            "[%] Downloading Image #12 from https://mir-s3-cdn-cf.behance.net/project_modules/max_1200/e7339f89447369.5df4d2a93cc9f.jpg\n",
            "[Error]Invalid image, not saving https://mir-s3-cdn-cf.behance.net/project_modules/max_1200/e7339f89447369.5df4d2a93cc9f.jpg\n",
            "\n",
            "[!] Issue getting: https://mir-s3-cdn-cf.behance.net/project_modules/max_1200/e7339f89447369.5df4d2a93cc9f.jpg\n",
            "[!] Error:: Invalid image, not saving https://mir-s3-cdn-cf.behance.net/project_modules/max_1200/e7339f89447369.5df4d2a93cc9f.jpg\n",
            "\n",
            "[%] Downloading Image #12 from https://i.pinimg.com/736x/02/e7/de/02e7de2c7050296e29a91fe4dd171a5e.jpg\n",
            "[%] File Downloaded !\n",
            "\n",
            "[%] Downloading Image #13 from https://mir-s3-cdn-cf.behance.net/project_modules/max_1200/78db5589447369.5df4d2a9e9539.jpeg\n",
            "[Error]Invalid image, not saving https://mir-s3-cdn-cf.behance.net/project_modules/max_1200/78db5589447369.5df4d2a9e9539.jpeg\n",
            "\n",
            "[!] Issue getting: https://mir-s3-cdn-cf.behance.net/project_modules/max_1200/78db5589447369.5df4d2a9e9539.jpeg\n",
            "[!] Error:: Invalid image, not saving https://mir-s3-cdn-cf.behance.net/project_modules/max_1200/78db5589447369.5df4d2a9e9539.jpeg\n",
            "\n",
            "[%] Downloading Image #13 from https://www.macfilos.com/wp-content/uploads/2019/05/L1030565.jpg\n",
            "[%] File Downloaded !\n",
            "\n",
            "[%] Downloading Image #14 from https://mir-s3-cdn-cf.behance.net/project_modules/max_1200/bf2c8989447369.5df4d2a8cf4f0.jpg\n",
            "[Error]Invalid image, not saving https://mir-s3-cdn-cf.behance.net/project_modules/max_1200/bf2c8989447369.5df4d2a8cf4f0.jpg\n",
            "\n",
            "[!] Issue getting: https://mir-s3-cdn-cf.behance.net/project_modules/max_1200/bf2c8989447369.5df4d2a8cf4f0.jpg\n",
            "[!] Error:: Invalid image, not saving https://mir-s3-cdn-cf.behance.net/project_modules/max_1200/bf2c8989447369.5df4d2a8cf4f0.jpg\n",
            "\n",
            "[%] Downloading Image #14 from https://s3.amazonaws.com/media-p.slid.es/uploads/noahr/images/1086236/human_development_stages.jpg\n",
            "[%] File Downloaded !\n",
            "\n",
            "[%] Downloading Image #15 from https://mir-s3-cdn-cf.behance.net/project_modules/max_1200/dd950d89447369.5df4d759b131d.jpeg\n",
            "[Error]Invalid image, not saving https://mir-s3-cdn-cf.behance.net/project_modules/max_1200/dd950d89447369.5df4d759b131d.jpeg\n",
            "\n",
            "[!] Issue getting: https://mir-s3-cdn-cf.behance.net/project_modules/max_1200/dd950d89447369.5df4d759b131d.jpeg\n",
            "[!] Error:: Invalid image, not saving https://mir-s3-cdn-cf.behance.net/project_modules/max_1200/dd950d89447369.5df4d759b131d.jpeg\n",
            "\n",
            "[%] Downloading Image #15 from https://d1u4oo4rb13yy8.cloudfront.net/article/40382-qqfqhbvmez-1472494417.jpg\n",
            "[%] File Downloaded !\n",
            "\n",
            "[%] Downloading Image #16 from https://mir-s3-cdn-cf.behance.net/project_modules/max_1200/6fd3be89447369.5df4d75a12460.jpeg\n",
            "[Error]Invalid image, not saving https://mir-s3-cdn-cf.behance.net/project_modules/max_1200/6fd3be89447369.5df4d75a12460.jpeg\n",
            "\n",
            "[!] Issue getting: https://mir-s3-cdn-cf.behance.net/project_modules/max_1200/6fd3be89447369.5df4d75a12460.jpeg\n",
            "[!] Error:: Invalid image, not saving https://mir-s3-cdn-cf.behance.net/project_modules/max_1200/6fd3be89447369.5df4d75a12460.jpeg\n",
            "\n",
            "[%] Downloading Image #16 from https://mir-s3-cdn-cf.behance.net/project_modules/1400/479f8b89447369.5df4da275ec48.png\n",
            "[%] File Downloaded !\n",
            "\n",
            "[%] Downloading Image #17 from https://i.pinimg.com/474x/48/1d/f7/481df778660a34c8a50509f31717814a--humans-of-new-york-the-streets.jpg\n",
            "[%] File Downloaded !\n",
            "\n",
            "[%] Downloading Image #18 from https://i.pinimg.com/originals/86/06/d1/8606d197970894a181d665cc2d658f9a.jpg\n",
            "[%] File Downloaded !\n",
            "\n",
            "[%] Downloading Image #19 from https://mir-s3-cdn-cf.behance.net/project_modules/1400/499d6989447369.5df4da275f3b7.png\n",
            "[%] File Downloaded !\n",
            "\n",
            "[%] Downloading Image #20 from https://mir-s3-cdn-cf.behance.net/project_modules/max_1200/b6df9089447369.5df4d2a6ee0ec.jpeg\n",
            "[Error]Invalid image, not saving https://mir-s3-cdn-cf.behance.net/project_modules/max_1200/b6df9089447369.5df4d2a6ee0ec.jpeg\n",
            "\n",
            "[!] Issue getting: https://mir-s3-cdn-cf.behance.net/project_modules/max_1200/b6df9089447369.5df4d2a6ee0ec.jpeg\n",
            "[!] Error:: Invalid image, not saving https://mir-s3-cdn-cf.behance.net/project_modules/max_1200/b6df9089447369.5df4d2a6ee0ec.jpeg\n",
            "\n",
            "[%] Downloading Image #20 from https://kintopia.kintone.com/2019/10/images/main visual resized.jpg\n",
            "[!] Issue getting: https://kintopia.kintone.com/2019/10/images/main visual resized.jpg\n",
            "[!] Error:: URL can't contain control characters. '/2019/10/images/main visual resized.jpg' (found at least ' ')\n",
            "[%] Downloading Image #20 from https://mir-s3-cdn-cf.behance.net/project_modules/1400/d56cf089447369.5df98f5b63c76.png\n",
            "[%] File Downloaded !\n",
            "\n",
            "[%] Downloading Image #21 from https://www.yourgenome.org/sites/default/files/styles/banner/public/banners/stories/are-humans-still-evolving/composition-of-diverse-people-smilingcropped6a.jpg?itok=KUARZBx2\n",
            "[%] File Downloaded !\n",
            "\n",
            "[%] Downloading Image #22 from https://mir-s3-cdn-cf.behance.net/project_modules/1400/28d21e89447369.5df4d758cf3c7.png\n",
            "[%] File Downloaded !\n",
            "\n",
            "[%] Downloading Image #23 from https://humansofhyderabad.co.in/wp-content/uploads/2020/02/FB_IMG_1582542227221-970x776.jpg\n",
            "[%] File Downloaded !\n",
            "\n",
            "[%] Downloading Image #24 from https://cdn.domestika.org/c_limit,dpr_auto,f_auto,q_auto,w_820/v1566430210/content-items/003/211/095/74afd280117925.5cd845ecc2613-original.jpg?1566430210\n",
            "[%] File Downloaded !\n",
            "\n",
            "[%] Downloading Image #25 from https://i.pinimg.com/originals/d7/fb/0d/d7fb0dce8773349f93e995b645dc1879.jpg\n",
            "[%] File Downloaded !\n",
            "\n",
            "[%] Downloading Image #26 from https://mir-s3-cdn-cf.behance.net/project_modules/disp/9e0b9489447369.5df4d2a93d395.jpg\n",
            "[Error]Invalid image, not saving https://mir-s3-cdn-cf.behance.net/project_modules/disp/9e0b9489447369.5df4d2a93d395.jpg\n",
            "\n",
            "[!] Issue getting: https://mir-s3-cdn-cf.behance.net/project_modules/disp/9e0b9489447369.5df4d2a93d395.jpg\n",
            "[!] Error:: Invalid image, not saving https://mir-s3-cdn-cf.behance.net/project_modules/disp/9e0b9489447369.5df4d2a93d395.jpg\n",
            "\n",
            "[%] Downloading Image #26 from https://mir-s3-cdn-cf.behance.net/project_modules/1400/52a12a89447369.5df4d758ce0d8.png\n",
            "[%] File Downloaded !\n",
            "\n",
            "[%] Downloading Image #27 from https://i.ytimg.com/vi/GIkkNFBwmX4/maxresdefault.jpg\n",
            "[%] File Downloaded !\n",
            "\n",
            "[%] Downloading Image #28 from https://www.pustakmahal.com/image/cache/products/worldfamoustruestorytiff/True Stories of 81 Weird Humans-600x600.png\n",
            "[!] Issue getting: https://www.pustakmahal.com/image/cache/products/worldfamoustruestorytiff/True Stories of 81 Weird Humans-600x600.png\n",
            "[!] Error:: URL can't contain control characters. '/image/cache/products/worldfamoustruestorytiff/True Stories of 81 Weird Humans-600x600.png' (found at least ' ')\n",
            "[%] Downloading Image #28 from https://mir-s3-cdn-cf.behance.net/project_modules/max_1200/d4851089447369.5df4d2a8241e8.jpg\n",
            "[Error]Invalid image, not saving https://mir-s3-cdn-cf.behance.net/project_modules/max_1200/d4851089447369.5df4d2a8241e8.jpg\n",
            "\n",
            "[!] Issue getting: https://mir-s3-cdn-cf.behance.net/project_modules/max_1200/d4851089447369.5df4d2a8241e8.jpg\n",
            "[!] Error:: Invalid image, not saving https://mir-s3-cdn-cf.behance.net/project_modules/max_1200/d4851089447369.5df4d2a8241e8.jpg\n",
            "\n",
            "[%] Downloading Image #28 from https://mir-s3-cdn-cf.behance.net/project_modules/max_1200/38dc1389447369.5df98f5cb7cd6.png\n",
            "[%] File Downloaded !\n",
            "\n",
            "[%] Downloading Image #29 from https://mir-s3-cdn-cf.behance.net/project_modules/max_1200/2f422b89447369.5df98f5bbeeea.jpeg\n",
            "[Error]Invalid image, not saving https://mir-s3-cdn-cf.behance.net/project_modules/max_1200/2f422b89447369.5df98f5bbeeea.jpeg\n",
            "\n",
            "[!] Issue getting: https://mir-s3-cdn-cf.behance.net/project_modules/max_1200/2f422b89447369.5df98f5bbeeea.jpeg\n",
            "[!] Error:: Invalid image, not saving https://mir-s3-cdn-cf.behance.net/project_modules/max_1200/2f422b89447369.5df98f5bbeeea.jpeg\n",
            "\n",
            "[%] Downloading Image #29 from https://mir-s3-cdn-cf.behance.net/project_modules/max_1200/1a97af89447369.5df98f5bbf413.jpeg\n",
            "[Error]Invalid image, not saving https://mir-s3-cdn-cf.behance.net/project_modules/max_1200/1a97af89447369.5df98f5bbf413.jpeg\n",
            "\n",
            "[!] Issue getting: https://mir-s3-cdn-cf.behance.net/project_modules/max_1200/1a97af89447369.5df98f5bbf413.jpeg\n",
            "[!] Error:: Invalid image, not saving https://mir-s3-cdn-cf.behance.net/project_modules/max_1200/1a97af89447369.5df98f5bbf413.jpeg\n",
            "\n",
            "[%] Downloading Image #29 from https://mir-s3-cdn-cf.behance.net/project_modules/1400/46479789447369.5df4d7595b066.png\n",
            "[%] File Downloaded !\n",
            "\n",
            "[%] Downloading Image #30 from https://qph.fs.quoracdn.net/main-qimg-2a12cd68b5fd2ab939ef1fd922f1c08e\n",
            "[%] File Downloaded !\n",
            "\n",
            "\n",
            "\n",
            "[!!]Indexing page: 2\n",
            "\n",
            "[%] Indexed 35 Images on Page 2.\n",
            "\n",
            "===============================================\n",
            "\n",
            "[%] Downloading Image #31 from https://images.amcnetworks.com/amc.com/wp-content/uploads/2015/06/humans-season-2-niska-berrington-800x600.jpg\n",
            "[%] File Downloaded !\n",
            "\n",
            "[%] Downloading Image #32 from https://mir-s3-cdn-cf.behance.net/project_modules/max_1200/12cbb689447369.5df4d3f4046d1.jpeg\n",
            "[Error]Invalid image, not saving https://mir-s3-cdn-cf.behance.net/project_modules/max_1200/12cbb689447369.5df4d3f4046d1.jpeg\n",
            "\n",
            "[!] Issue getting: https://mir-s3-cdn-cf.behance.net/project_modules/max_1200/12cbb689447369.5df4d3f4046d1.jpeg\n",
            "[!] Error:: Invalid image, not saving https://mir-s3-cdn-cf.behance.net/project_modules/max_1200/12cbb689447369.5df4d3f4046d1.jpeg\n",
            "\n",
            "[%] Downloading Image #32 from https://mir-s3-cdn-cf.behance.net/project_modules/max_1200/d7f6bf89447369.5df4d759b0d01.jpeg\n",
            "[Error]Invalid image, not saving https://mir-s3-cdn-cf.behance.net/project_modules/max_1200/d7f6bf89447369.5df4d759b0d01.jpeg\n",
            "\n",
            "[!] Issue getting: https://mir-s3-cdn-cf.behance.net/project_modules/max_1200/d7f6bf89447369.5df4d759b0d01.jpeg\n",
            "[!] Error:: Invalid image, not saving https://mir-s3-cdn-cf.behance.net/project_modules/max_1200/d7f6bf89447369.5df4d759b0d01.jpeg\n",
            "\n",
            "[%] Downloading Image #32 from https://mir-s3-cdn-cf.behance.net/project_modules/max_1200/06666a89447369.5df4d75a11ddb.jpeg\n",
            "[Error]Invalid image, not saving https://mir-s3-cdn-cf.behance.net/project_modules/max_1200/06666a89447369.5df4d75a11ddb.jpeg\n",
            "\n",
            "[!] Issue getting: https://mir-s3-cdn-cf.behance.net/project_modules/max_1200/06666a89447369.5df4d75a11ddb.jpeg\n",
            "[!] Error:: Invalid image, not saving https://mir-s3-cdn-cf.behance.net/project_modules/max_1200/06666a89447369.5df4d75a11ddb.jpeg\n",
            "\n",
            "[%] Downloading Image #32 from https://mir-s3-cdn-cf.behance.net/project_modules/max_1200/f1e58f89447369.5df4d3f403fa4.jpeg\n",
            "[Error]Invalid image, not saving https://mir-s3-cdn-cf.behance.net/project_modules/max_1200/f1e58f89447369.5df4d3f403fa4.jpeg\n",
            "\n",
            "[!] Issue getting: https://mir-s3-cdn-cf.behance.net/project_modules/max_1200/f1e58f89447369.5df4d3f403fa4.jpeg\n",
            "[!] Error:: Invalid image, not saving https://mir-s3-cdn-cf.behance.net/project_modules/max_1200/f1e58f89447369.5df4d3f403fa4.jpeg\n",
            "\n",
            "[%] Downloading Image #32 from https://mir-s3-cdn-cf.behance.net/project_modules/1400/39f46c89447369.5df4d96528619.png\n",
            "[%] File Downloaded !\n",
            "\n",
            "[%] Downloading Image #33 from https://mir-s3-cdn-cf.behance.net/project_modules/max_1200/def57489447369.5df4d759b0647.jpeg\n",
            "[Error]Invalid image, not saving https://mir-s3-cdn-cf.behance.net/project_modules/max_1200/def57489447369.5df4d759b0647.jpeg\n",
            "\n",
            "[!] Issue getting: https://mir-s3-cdn-cf.behance.net/project_modules/max_1200/def57489447369.5df4d759b0647.jpeg\n",
            "[!] Error:: Invalid image, not saving https://mir-s3-cdn-cf.behance.net/project_modules/max_1200/def57489447369.5df4d759b0647.jpeg\n",
            "\n",
            "[%] Downloading Image #33 from https://mir-s3-cdn-cf.behance.net/project_modules/max_1200/5ec19489447369.5df4d3f39317c.jpeg\n",
            "[Error]Invalid image, not saving https://mir-s3-cdn-cf.behance.net/project_modules/max_1200/5ec19489447369.5df4d3f39317c.jpeg\n",
            "\n",
            "[!] Issue getting: https://mir-s3-cdn-cf.behance.net/project_modules/max_1200/5ec19489447369.5df4d3f39317c.jpeg\n",
            "[!] Error:: Invalid image, not saving https://mir-s3-cdn-cf.behance.net/project_modules/max_1200/5ec19489447369.5df4d3f39317c.jpeg\n",
            "\n",
            "[%] Downloading Image #33 from https://mir-s3-cdn-cf.behance.net/project_modules/max_1200/0c4bbe89447369.5df4d3f392a5d.jpeg\n",
            "[Error]Invalid image, not saving https://mir-s3-cdn-cf.behance.net/project_modules/max_1200/0c4bbe89447369.5df4d3f392a5d.jpeg\n",
            "\n",
            "[!] Issue getting: https://mir-s3-cdn-cf.behance.net/project_modules/max_1200/0c4bbe89447369.5df4d3f392a5d.jpeg\n",
            "[!] Error:: Invalid image, not saving https://mir-s3-cdn-cf.behance.net/project_modules/max_1200/0c4bbe89447369.5df4d3f392a5d.jpeg\n",
            "\n",
            "[%] Downloading Image #33 from https://www.conferencesthatwork.com/wp-content/uploads/2021/05/Social-learning-comparison-1.jpg\n",
            "[%] File Downloaded !\n",
            "\n",
            "[%] Downloading Image #34 from https://s3.amazonaws.com/media-p.slid.es/uploads/noahr/images/1086221/toddler_boy.jpg\n",
            "[%] File Downloaded !\n",
            "\n",
            "[%] Downloading Image #35 from https://mir-s3-cdn-cf.behance.net/project_modules/1400/fca38589447369.5df98f5add75a.png\n",
            "[%] File Downloaded !\n",
            "\n",
            "[%] Downloading Image #36 from https://mir-s3-cdn-cf.behance.net/project_modules/1400/45b81389447369.5df4da275e477.png\n",
            "[%] File Downloaded !\n",
            "\n",
            "[%] Downloading Image #37 from https://i.pinimg.com/originals/1e/22/98/1e22980226c3537ba6e5e620848db909.jpg\n",
            "[%] File Downloaded !\n",
            "\n",
            "[%] Downloading Image #38 from https://res.cloudinary.com/dwzmsvp7f/image/fetch/q_75,f_auto,w_1316/https:%2F%2Fmedia.insider.in%2Fimage%2Fupload%2Fc_crop%2Cg_custom%2Fv1594627093%2Fjcfbvzwmko61wkelrxgi.jpg\n",
            "[%] File Downloaded !\n",
            "\n",
            "[%] Downloading Image #39 from https://kintopia.kintone.com/2019/10/images/img-801.jpg\n",
            "[%] File Downloaded !\n",
            "\n",
            "[%] Downloading Image #40 from https://mir-s3-cdn-cf.behance.net/project_modules/disp/c3687c89447369.5df4d2a9e9abf.jpeg\n",
            "[Error]Invalid image, not saving https://mir-s3-cdn-cf.behance.net/project_modules/disp/c3687c89447369.5df4d2a9e9abf.jpeg\n",
            "\n",
            "[!] Issue getting: https://mir-s3-cdn-cf.behance.net/project_modules/disp/c3687c89447369.5df4d2a9e9abf.jpeg\n",
            "[!] Error:: Invalid image, not saving https://mir-s3-cdn-cf.behance.net/project_modules/disp/c3687c89447369.5df4d2a9e9abf.jpeg\n",
            "\n",
            "[%] Downloading Image #40 from https://i.pinimg.com/200x150/d5/11/e0/d511e067415e942b3ce48325db1a8a06.jpg\n",
            "[%] File Downloaded !\n",
            "\n",
            "[%] Downloading Image #41 from https://mir-s3-cdn-cf.behance.net/project_modules/1400/f4223389447369.5df98f5cb5e48.png\n",
            "[%] File Downloaded !\n",
            "\n",
            "[%] Downloading Image #42 from https://mir-s3-cdn-cf.behance.net/project_modules/max_1200/e7339f89447369.5df4d2a93cc9f.jpg\n",
            "[Error]Invalid image, not saving https://mir-s3-cdn-cf.behance.net/project_modules/max_1200/e7339f89447369.5df4d2a93cc9f.jpg\n",
            "\n",
            "[!] Issue getting: https://mir-s3-cdn-cf.behance.net/project_modules/max_1200/e7339f89447369.5df4d2a93cc9f.jpg\n",
            "[!] Error:: Invalid image, not saving https://mir-s3-cdn-cf.behance.net/project_modules/max_1200/e7339f89447369.5df4d2a93cc9f.jpg\n",
            "\n",
            "[%] Downloading Image #42 from https://i.pinimg.com/736x/02/e7/de/02e7de2c7050296e29a91fe4dd171a5e.jpg\n",
            "[%] File Downloaded !\n",
            "\n",
            "[%] Downloading Image #43 from https://mir-s3-cdn-cf.behance.net/project_modules/max_1200/78db5589447369.5df4d2a9e9539.jpeg\n",
            "[Error]Invalid image, not saving https://mir-s3-cdn-cf.behance.net/project_modules/max_1200/78db5589447369.5df4d2a9e9539.jpeg\n",
            "\n",
            "[!] Issue getting: https://mir-s3-cdn-cf.behance.net/project_modules/max_1200/78db5589447369.5df4d2a9e9539.jpeg\n",
            "[!] Error:: Invalid image, not saving https://mir-s3-cdn-cf.behance.net/project_modules/max_1200/78db5589447369.5df4d2a9e9539.jpeg\n",
            "\n",
            "[%] Downloading Image #43 from https://www.macfilos.com/wp-content/uploads/2019/05/L1030565.jpg\n",
            "[%] File Downloaded !\n",
            "\n",
            "[%] Downloading Image #44 from https://mir-s3-cdn-cf.behance.net/project_modules/max_1200/bf2c8989447369.5df4d2a8cf4f0.jpg\n",
            "[Error]Invalid image, not saving https://mir-s3-cdn-cf.behance.net/project_modules/max_1200/bf2c8989447369.5df4d2a8cf4f0.jpg\n",
            "\n",
            "[!] Issue getting: https://mir-s3-cdn-cf.behance.net/project_modules/max_1200/bf2c8989447369.5df4d2a8cf4f0.jpg\n",
            "[!] Error:: Invalid image, not saving https://mir-s3-cdn-cf.behance.net/project_modules/max_1200/bf2c8989447369.5df4d2a8cf4f0.jpg\n",
            "\n",
            "[%] Downloading Image #44 from https://s3.amazonaws.com/media-p.slid.es/uploads/noahr/images/1086236/human_development_stages.jpg\n",
            "[%] File Downloaded !\n",
            "\n",
            "[%] Downloading Image #45 from https://mir-s3-cdn-cf.behance.net/project_modules/max_1200/dd950d89447369.5df4d759b131d.jpeg\n",
            "[Error]Invalid image, not saving https://mir-s3-cdn-cf.behance.net/project_modules/max_1200/dd950d89447369.5df4d759b131d.jpeg\n",
            "\n",
            "[!] Issue getting: https://mir-s3-cdn-cf.behance.net/project_modules/max_1200/dd950d89447369.5df4d759b131d.jpeg\n",
            "[!] Error:: Invalid image, not saving https://mir-s3-cdn-cf.behance.net/project_modules/max_1200/dd950d89447369.5df4d759b131d.jpeg\n",
            "\n",
            "[%] Downloading Image #45 from https://d1u4oo4rb13yy8.cloudfront.net/article/40382-qqfqhbvmez-1472494417.jpg\n",
            "[%] File Downloaded !\n",
            "\n",
            "[%] Downloading Image #46 from https://mir-s3-cdn-cf.behance.net/project_modules/max_1200/6fd3be89447369.5df4d75a12460.jpeg\n",
            "[Error]Invalid image, not saving https://mir-s3-cdn-cf.behance.net/project_modules/max_1200/6fd3be89447369.5df4d75a12460.jpeg\n",
            "\n",
            "[!] Issue getting: https://mir-s3-cdn-cf.behance.net/project_modules/max_1200/6fd3be89447369.5df4d75a12460.jpeg\n",
            "[!] Error:: Invalid image, not saving https://mir-s3-cdn-cf.behance.net/project_modules/max_1200/6fd3be89447369.5df4d75a12460.jpeg\n",
            "\n",
            "[%] Downloading Image #46 from https://mir-s3-cdn-cf.behance.net/project_modules/1400/479f8b89447369.5df4da275ec48.png\n",
            "[%] File Downloaded !\n",
            "\n",
            "[%] Downloading Image #47 from https://i.pinimg.com/474x/48/1d/f7/481df778660a34c8a50509f31717814a--humans-of-new-york-the-streets.jpg\n",
            "[%] File Downloaded !\n",
            "\n",
            "[%] Downloading Image #48 from https://i.pinimg.com/originals/86/06/d1/8606d197970894a181d665cc2d658f9a.jpg\n",
            "[%] File Downloaded !\n",
            "\n",
            "[%] Downloading Image #49 from https://mir-s3-cdn-cf.behance.net/project_modules/1400/499d6989447369.5df4da275f3b7.png\n",
            "[%] File Downloaded !\n",
            "\n",
            "[%] Downloading Image #50 from https://mir-s3-cdn-cf.behance.net/project_modules/max_1200/b6df9089447369.5df4d2a6ee0ec.jpeg\n",
            "[Error]Invalid image, not saving https://mir-s3-cdn-cf.behance.net/project_modules/max_1200/b6df9089447369.5df4d2a6ee0ec.jpeg\n",
            "\n",
            "[!] Issue getting: https://mir-s3-cdn-cf.behance.net/project_modules/max_1200/b6df9089447369.5df4d2a6ee0ec.jpeg\n",
            "[!] Error:: Invalid image, not saving https://mir-s3-cdn-cf.behance.net/project_modules/max_1200/b6df9089447369.5df4d2a6ee0ec.jpeg\n",
            "\n",
            "[%] Downloading Image #50 from https://kintopia.kintone.com/2019/10/images/main visual resized.jpg\n",
            "[!] Issue getting: https://kintopia.kintone.com/2019/10/images/main visual resized.jpg\n",
            "[!] Error:: URL can't contain control characters. '/2019/10/images/main visual resized.jpg' (found at least ' ')\n",
            "[%] Downloading Image #50 from https://mir-s3-cdn-cf.behance.net/project_modules/1400/d56cf089447369.5df98f5b63c76.png\n",
            "[%] File Downloaded !\n",
            "\n",
            "\n",
            "\n",
            "[%] Done. Downloaded 50 images.\n",
            "===============================================\n",
            "\n",
            "Please show your support here\n",
            "https://www.buymeacoffee.com/gurugaurav\n",
            "\n",
            "===============================================\n",
            "\n"
          ],
          "name": "stdout"
        }
      ]
    },
    {
      "cell_type": "code",
      "metadata": {
        "colab": {
          "base_uri": "https://localhost:8080/"
        },
        "id": "dSfJQT8qkfdG",
        "outputId": "f879718f-6e1c-45aa-9df0-58035ca6de51"
      },
      "source": [
        "downloader.download(\"animals\",limit=50,output_dir=\"images\",adult_filter_off=True)"
      ],
      "execution_count": 5,
      "outputs": [
        {
          "output_type": "stream",
          "text": [
            "[%] Downloading Images to /content/images/animals\n",
            "\n",
            "\n",
            "[!!]Indexing page: 1\n",
            "\n",
            "[%] Indexed 50 Images on Page 1.\n",
            "\n",
            "===============================================\n",
            "\n",
            "[%] Downloading Image #1 from http://truebutweird.weebly.com/uploads/1/3/1/7/13176144/619875391.jpg\n",
            "[%] File Downloaded !\n",
            "\n",
            "[%] Downloading Image #2 from http://1.bp.blogspot.com/-iJTtjEwzBEw/UA13lFpdrDI/AAAAAAAABeI/8nLwivOo95Y/s1600/Giraffe-wild-animals-2614055-1024-818.jpg\n",
            "[%] File Downloaded !\n",
            "\n",
            "[%] Downloading Image #3 from http://media.techeblog.com/images/quokka.jpg\n",
            "[%] File Downloaded !\n",
            "\n",
            "[%] Downloading Image #4 from https://pawpawgo.com/wp-content/uploads/2019/12/Beautiful-Wild-Animals-The-True-Beauty-Of-Wildlife-1706572629015258180.jpg\n",
            "[%] File Downloaded !\n",
            "\n",
            "[%] Downloading Image #5 from https://pawpawgo.com/wp-content/uploads/2019/12/Beautiful-Wild-Animals-The-True-Beauty-Of-Wildlife-1566186984402498668.jpg\n",
            "[%] File Downloaded !\n",
            "\n",
            "[%] Downloading Image #6 from https://i0.wp.com/www.ecstasycoffee.com/wp-content/uploads/2014/12/Meerkats.jpg?resize=750%2C1124&amp;ssl=1\n",
            "[%] File Downloaded !\n",
            "\n",
            "[%] Downloading Image #7 from https://www.books4school.com/images/product/9781426329814-X2.jpg\n",
            "[%] File Downloaded !\n",
            "\n",
            "[%] Downloading Image #8 from https://i2.wp.com/www.ecstasycoffee.com/wp-content/uploads/2014/12/226.jpg?resize=749%2C1124\n",
            "[%] File Downloaded !\n",
            "\n",
            "[%] Downloading Image #9 from https://i1.wp.com/www.ecstasycoffee.com/wp-content/uploads/2014/12/168.jpg\n",
            "[%] File Downloaded !\n",
            "\n",
            "[%] Downloading Image #10 from https://i.pinimg.com/originals/e8/56/9a/e8569a7003c4b7b71b1da3d4083be69f.jpg\n",
            "[%] File Downloaded !\n",
            "\n",
            "[%] Downloading Image #11 from https://i0.wp.com/www.onegreenplanet.org/wp-content/uploads/2014/02/animals_in_love-tumblr-11.jpg?resize=689%2C800\n",
            "[%] File Downloaded !\n",
            "\n",
            "[%] Downloading Image #12 from https://pawpawgo.com/wp-content/uploads/2019/12/Beautiful-Wild-Animals-The-True-Beauty-Of-Wildlife-1348466089916954620.jpg\n",
            "[%] File Downloaded !\n",
            "\n",
            "[%] Downloading Image #13 from https://i1.wp.com/www.ecstasycoffee.com/wp-content/uploads/2014/12/Wild-Kiss.jpg?fit=467%2C700&amp;ssl=1\n",
            "[%] File Downloaded !\n",
            "\n",
            "[%] Downloading Image #14 from https://cdn.quizzclub.com/interesting-fact/2017-04/unbelievable-but-true-these-hybrid-animals-really-exist_3-character.jpg\n",
            "[%] File Downloaded !\n",
            "\n",
            "[%] Downloading Image #15 from http://2.bp.blogspot.com/_2AsSnFyfZ2g/TStBAeEcnoI/AAAAAAAAADY/fPj8Emm1C18/s1600/weird-animals-3.jpg\n",
            "[%] File Downloaded !\n",
            "\n",
            "[%] Downloading Image #16 from https://i1.wp.com/www.onegreenplanet.org/wp-content/uploads/2014/02/animals_in_love-tumblr-9.jpg?resize=768%2C768\n",
            "[%] File Downloaded !\n",
            "\n",
            "[%] Downloading Image #17 from https://i.pinimg.com/originals/71/e3/bf/71e3bffdcb1abbdd972f1364f0eb0b9b.jpg\n",
            "[%] File Downloaded !\n",
            "\n",
            "[%] Downloading Image #18 from https://i.pinimg.com/originals/85/b8/52/85b8523b7709a5ad4beb9b84a03c62d3.jpg\n",
            "[%] File Downloaded !\n",
            "\n",
            "[%] Downloading Image #19 from http://3.bp.blogspot.com/-ir_orYnouDQ/Ufch7gIJcDI/AAAAAAAAAUQ/wK_Z7bnLwEI/w1200-h630-p-k-no-nu/4331144496_c2db6d52b5_b.jpg\n",
            "[%] File Downloaded !\n",
            "\n",
            "[%] Downloading Image #20 from https://pawpawgo.com/wp-content/uploads/2019/12/Beautiful-Wild-Animals-The-True-Beauty-Of-Wildlife-1480126010273297158.jpg\n",
            "[%] File Downloaded !\n",
            "\n",
            "[%] Downloading Image #21 from https://i2.wp.com/www.ecstasycoffee.com/wp-content/uploads/2014/12/wolves.jpg?resize=750%2C1022\n",
            "[%] File Downloaded !\n",
            "\n",
            "[%] Downloading Image #22 from http://2.bp.blogspot.com/-riVn4eF0NPs/UfjAJ9ypuUI/AAAAAAAAAX0/z1tWLE3G-eM/s1600/21624024_2bf4d40a4b_b.jpg\n",
            "[%] File Downloaded !\n",
            "\n",
            "[%] Downloading Image #23 from http://2.bp.blogspot.com/_49Bcbuc6ngM/S6a2mqgPb9I/AAAAAAAAAvw/GHVmd6b_rzI/w1200-h630-p-k-no-nu/shoebill+Balaeniceps+rex+5.jpg\n",
            "[%] File Downloaded !\n",
            "\n",
            "[%] Downloading Image #24 from https://i.pinimg.com/originals/e9/ac/47/e9ac477dd38b4f3d80860e707e3e4187.jpg\n",
            "[%] File Downloaded !\n",
            "\n",
            "[%] Downloading Image #25 from https://s.yimg.com/uu/api/res/1.2/2n4yHu0QsyodJX8PjiuDaQ--~B/aD0xMzM2O3c9MjAwMDthcHBpZD15dGFjaHlvbg--/https://media.zenfs.com/en/daily_paws_articles_948/ce3e30a6431acde6aef42d058a7b3d6e\n",
            "[%] File Downloaded !\n",
            "\n",
            "[%] Downloading Image #26 from https://i1.wp.com/www.ecstasycoffee.com/wp-content/uploads/2014/12/otters.jpg?resize=750%2C1122\n",
            "[%] File Downloaded !\n",
            "\n",
            "[%] Downloading Image #27 from https://i.pinimg.com/736x/48/f9/ff/48f9ff10f11872978cebaedb635e3d13.jpg\n",
            "[%] File Downloaded !\n",
            "\n",
            "[%] Downloading Image #28 from https://1.bp.blogspot.com/_49Bcbuc6ngM/S9doouCd_OI/AAAAAAAAA2k/FaQ0zFtA1hE/s1600/Sumatran+Rhinoceros+14.jpg\n",
            "[%] File Downloaded !\n",
            "\n",
            "[%] Downloading Image #29 from https://i.pinimg.com/originals/1b/20/9f/1b209fe6d75972115d4f629e16e4149d.jpg\n",
            "[%] File Downloaded !\n",
            "\n",
            "[%] Downloading Image #30 from https://i.pinimg.com/originals/25/92/d3/2592d341f30e4b6e04f8a0235bc2abb2.jpg\n",
            "[%] File Downloaded !\n",
            "\n",
            "[%] Downloading Image #31 from https://www.cam.ac.uk/sites/www.cam.ac.uk/files/styles/content-885x432/public/news/research/news/baboon1web.jpg?itok=9EBHZNB5\n",
            "[%] File Downloaded !\n",
            "\n",
            "[%] Downloading Image #32 from http://truebutweird.weebly.com/uploads/1/3/1/7/13176144/295155641.jpg\n",
            "[%] File Downloaded !\n",
            "\n",
            "[%] Downloading Image #33 from https://pawpawgo.com/wp-content/uploads/2019/12/Beautiful-Wild-Animals-The-True-Beauty-Of-Wildlife-1540994973983511246.jpg\n",
            "[%] File Downloaded !\n",
            "\n",
            "[%] Downloading Image #34 from https://i.pinimg.com/736x/4e/9a/20/4e9a20f6882e92399c2940f5d06b3e15--true-love-animals.jpg\n",
            "[%] File Downloaded !\n",
            "\n",
            "[%] Downloading Image #35 from http://1.bp.blogspot.com/_49Bcbuc6ngM/S84d2Dc8xeI/AAAAAAAAA1M/Rqdf4bDMU1k/w1200-h630-p-k-nu/Gharial+a.k.a.+Indian+Gavial.jpg\n",
            "[%] File Downloaded !\n",
            "\n",
            "[%] Downloading Image #36 from https://mariasplace.com/wp-content/uploads/2017/09/Snail-thumbnail.jpg\n",
            "[%] File Downloaded !\n",
            "\n",
            "[%] Downloading Image #37 from https://justsomething.co/wp-content/uploads/2018/11/22-baby-animals-that-are-too-cute-to-be-true.jpg\n",
            "[%] File Downloaded !\n",
            "\n",
            "[%] Downloading Image #38 from http://justsomething.co/wp-content/uploads/2018/10/22-baby-animals-that-are-too-cute-to-be-true-21.jpg\n",
            "[%] File Downloaded !\n",
            "\n",
            "[%] Downloading Image #39 from https://i0.wp.com/res.cloudinary.com/dgxbhwouq/image/upload/v1576606906/yulia-derevschikova_13.jpg?resize=662%2C828&amp;ssl=1\n",
            "[%] File Downloaded !\n",
            "\n",
            "[%] Downloading Image #40 from https://i.pinimg.com/originals/6d/26/3d/6d263daade007f89d12e6636b823a600.jpg\n",
            "[%] File Downloaded !\n",
            "\n",
            "[%] Downloading Image #41 from https://pawpawgo.com/wp-content/uploads/2019/12/Beautiful-Wild-Animals-The-True-Beauty-Of-Wildlife-1540994973985018758.jpg\n",
            "[%] File Downloaded !\n",
            "\n",
            "[%] Downloading Image #42 from http://4.bp.blogspot.com/_2AsSnFyfZ2g/TStAzyCHQNI/AAAAAAAAADE/swsfgmCccsU/s1600/81190650ld9.jpg\n",
            "[%] File Downloaded !\n",
            "\n",
            "[%] Downloading Image #43 from https://i1.wp.com/images.hellokids.com/_uploads/_tiny_galerie/20100520/bengal-tiger-3_z2s.jpg\n",
            "[%] File Downloaded !\n",
            "\n",
            "[%] Downloading Image #44 from https://funnymodo.com/wp-content/uploads/2017/05/1494248787_12-fascinating-facts-about-animals-you-wouldnt-believe-are-true.jpg\n",
            "[%] File Downloaded !\n",
            "\n",
            "[%] Downloading Image #45 from https://pawpawgo.com/wp-content/uploads/2019/12/Beautiful-Wild-Animals-The-True-Beauty-Of-Wildlife-1316237205068695323.jpg\n",
            "[%] File Downloaded !\n",
            "\n",
            "[%] Downloading Image #46 from http://media.techeblog.com/images/strange_animal_facts.jpg\n",
            "[%] File Downloaded !\n",
            "\n",
            "[%] Downloading Image #47 from https://i.pinimg.com/originals/18/1e/e1/181ee14af70b4cab60721459a271472b.jpg\n",
            "[%] File Downloaded !\n",
            "\n",
            "[%] Downloading Image #48 from http://blogs.ucl.ac.uk/museums/files/2014/01/True-and-False-animals.jpg\n",
            "[%] File Downloaded !\n",
            "\n",
            "[%] Downloading Image #49 from https://i.ytimg.com/vi/zsgMUpeLzS4/maxresdefault.jpg\n",
            "[%] File Downloaded !\n",
            "\n",
            "[%] Downloading Image #50 from https://i.pinimg.com/originals/10/a9/e2/10a9e2c4fec52120828be72ea0a9b71f.jpg\n",
            "[%] File Downloaded !\n",
            "\n",
            "\n",
            "\n",
            "[%] Done. Downloaded 50 images.\n",
            "===============================================\n",
            "\n",
            "Please show your support here\n",
            "https://www.buymeacoffee.com/gurugaurav\n",
            "\n",
            "===============================================\n",
            "\n"
          ],
          "name": "stdout"
        }
      ]
    },
    {
      "cell_type": "code",
      "metadata": {
        "colab": {
          "base_uri": "https://localhost:8080/"
        },
        "id": "RlylPDOZlUpP",
        "outputId": "dd6f2a7b-f52f-47da-f36a-88ac994f9f4b"
      },
      "source": [
        "downloader.download(\"machines\",limit=50,output_dir=\"images\",adult_filter_off=True)"
      ],
      "execution_count": 6,
      "outputs": [
        {
          "output_type": "stream",
          "text": [
            "[%] Downloading Images to /content/images/machines\n",
            "\n",
            "\n",
            "[!!]Indexing page: 1\n",
            "\n",
            "[%] Indexed 50 Images on Page 1.\n",
            "\n",
            "===============================================\n",
            "\n",
            "[%] Downloading Image #1 from https://www.allellipticals.com/images/TRUE-M50-elliptical.jpg\n",
            "[%] File Downloaded !\n",
            "\n",
            "[%] Downloading Image #2 from https://www.gympros.com/wp-content/uploads/2019/05/TRUE-FITNESS-LEG-CALF-PRESS.jpg\n",
            "[%] File Downloaded !\n",
            "\n",
            "[%] Downloading Image #3 from https://i.pinimg.com/736x/0b/20/89/0b20896825907a78f72aec1412347b57--vending-machine-glass.jpg\n",
            "[%] File Downloaded !\n",
            "\n",
            "[%] Downloading Image #4 from http://fitness4home.com/wp-content/uploads/2014/01/cs400e_model2.jpg\n",
            "[%] File Downloaded !\n",
            "\n",
            "[%] Downloading Image #5 from https://www.gympros.com/wp-content/uploads/2019/05/TRUE-FITNESS-FORCE-MULTI-PRESS.jpg\n",
            "[%] File Downloaded !\n",
            "\n",
            "[%] Downloading Image #6 from https://www.fitnessgallery.com/wp-content/uploads/2016/12/TRUE-Fitness_ES700-Elliptical-Back_Fitness-Gallery.png\n",
            "[%] File Downloaded !\n",
            "\n",
            "[%] Downloading Image #7 from https://duplex-cleaning.com/wp-content/uploads/2020/08/Duplex-620-Steam-7-1365x2048.jpg\n",
            "[%] File Downloaded !\n",
            "\n",
            "[%] Downloading Image #8 from https://www.gymsource.com/media/catalog/product/cache/1/image/1800x/040ec09b1e35df139433887a97daa66f/t/r/tru_xm30_2_1.jpg\n",
            "[%] File Downloaded !\n",
            "\n",
            "[%] Downloading Image #9 from http://sewingmachinesandparts.net/wp-content/uploads/2014/10/Singer-S16-Studio-Industrial-Grade-True-Straight-Stitch-Only-Sewing-and-Quilting-Machine-1024x990.jpg\n",
            "[%] File Downloaded !\n",
            "\n",
            "[%] Downloading Image #10 from https://www.gymsource.com/media/prod.image/t/r/tru_es900u_1.jpg\n",
            "[%] File Downloaded !\n",
            "\n",
            "[%] Downloading Image #11 from https://www.fitnessgallery.com/wp-content/uploads/2016/12/TRUE-fitness_ES700-elliptical_Fitness-Gallery.png\n",
            "[%] File Downloaded !\n",
            "\n",
            "[%] Downloading Image #12 from https://www.fitnessgallery.com/wp-content/uploads/2018/06/TRUE-FItness-Spectrum-Commerical-Elliptical-Rearview-at-Fitness-Gallery-min.jpg\n",
            "[%] File Downloaded !\n",
            "\n",
            "[%] Downloading Image #13 from http://www.coastfitness.com/6636-large_default/true-c900-commercial-elliptical.jpg\n",
            "[%] File Downloaded !\n",
            "\n",
            "[%] Downloading Image #14 from http://krtconcepts.com/fitness/wp-content/uploads/2014/09/4.jpg\n",
            "[%] File Downloaded !\n",
            "\n",
            "[%] Downloading Image #15 from http://www.360fitnesssuperstore.com/images/product-images/ellipticals/true-fitness/True-Fitness-M30-Elliptical.jpg\n",
            "[%] File Downloaded !\n",
            "\n",
            "[%] Downloading Image #16 from https://truefitness.com/wp-content/uploads/2018/01/Screenshot-2021-01-19-105539-768x666.jpg\n",
            "[%] File Downloaded !\n",
            "\n",
            "[%] Downloading Image #17 from http://fitnessinmotionsouthtexas.com/wp-content/uploads/2014/05/True_PS300_Elliptical.png\n",
            "[%] File Downloaded !\n",
            "\n",
            "[%] Downloading Image #18 from https://www.truecncmachining.com/wp-content/uploads/2015/02/Manufacturing_02.jpg\n",
            "[%] File Downloaded !\n",
            "\n",
            "[%] Downloading Image #19 from http://truemachinery.com/wp-content/uploads/2020/06/smart-xl-512x448.png\n",
            "[%] File Downloaded !\n",
            "\n",
            "[%] Downloading Image #20 from http://www.cpscentral.com/wp-content/uploads/2013/09/TRUE_ESXt_Elliptical_72254-263x300.jpg\n",
            "[%] File Downloaded !\n",
            "\n",
            "[%] Downloading Image #21 from https://i1.wp.com/shop.truefitness.com/wp-content/uploads/2019/03/GLOBE3223_R_4.jpg?fit=2048%2C1324&amp;ssl=1\n",
            "[%] File Downloaded !\n",
            "\n",
            "[%] Downloading Image #22 from https://cdn.shopify.com/s/files/1/0196/3146/products/Fitness_Solutions_True_CS900_Elliptical_large.jpg?v=1473807506\n",
            "[%] File Downloaded !\n",
            "\n",
            "[%] Downloading Image #23 from http://truemachinery.com/wp-content/uploads/2020/06/factory_6.jpg\n",
            "[%] File Downloaded !\n",
            "\n",
            "[%] Downloading Image #24 from http://truemachinery.com/wp-content/uploads/2020/07/eth-l-512x400.jpg\n",
            "[%] File Downloaded !\n",
            "\n",
            "[%] Downloading Image #25 from https://www.vivian-ice-machines.com/cmss_files/imagelibrary/Product Images/True/t-50-gc-s.JPG\n",
            "[!] Issue getting: https://www.vivian-ice-machines.com/cmss_files/imagelibrary/Product Images/True/t-50-gc-s.JPG\n",
            "[!] Error:: URL can't contain control characters. '/cmss_files/imagelibrary/Product Images/True/t-50-gc-s.JPG' (found at least ' ')\n",
            "[%] Downloading Image #25 from https://i.ytimg.com/vi/xgI1hQvBxWc/maxresdefault.jpg\n",
            "[%] File Downloaded !\n",
            "\n",
            "[%] Downloading Image #26 from https://krtconcepts.com/fitness/wp-content/uploads/2014/08/truefitness-cs900-treadmill3.jpg\n",
            "[%] File Downloaded !\n",
            "\n",
            "[%] Downloading Image #27 from https://5.imimg.com/data5/LD/GV/YB/SELLER-1154866/true-arc-400-a-welding-rectifier-machines-500x500.jpg\n",
            "[Error]Invalid image, not saving https://5.imimg.com/data5/LD/GV/YB/SELLER-1154866/true-arc-400-a-welding-rectifier-machines-500x500.jpg\n",
            "\n",
            "[!] Issue getting: https://5.imimg.com/data5/LD/GV/YB/SELLER-1154866/true-arc-400-a-welding-rectifier-machines-500x500.jpg\n",
            "[!] Error:: Invalid image, not saving https://5.imimg.com/data5/LD/GV/YB/SELLER-1154866/true-arc-400-a-welding-rectifier-machines-500x500.jpg\n",
            "\n",
            "[%] Downloading Image #27 from http://cfnewsads.thomasnet.com/images/large/821/821545.jpg\n",
            "[%] File Downloaded !\n",
            "\n",
            "[%] Downloading Image #28 from https://cdn.architecturelab.net/wp-content/uploads/2020/06/8-Best-Record-Cleaning-Machines-True-Vinyl-Connoisseur-01-716x420.jpg\n",
            "[%] File Downloaded !\n",
            "\n",
            "[%] Downloading Image #29 from http://twentywheels.com/imgs/a/b/g/n/u/bridgeport_j1_series_vertical_milling_machine_w_true_trace_tracing_1_lgw.jpg\n",
            "[%] File Downloaded !\n",
            "\n",
            "[%] Downloading Image #30 from https://i.pinimg.com/736x/cc/2e/19/cc2e1926d18da5a05a21f05ae74589c7--vending-machine-glass.jpg\n",
            "[%] File Downloaded !\n",
            "\n",
            "[%] Downloading Image #31 from https://static.machinetools.com/uploads/1862217/3-Axis-with-Ebbco-318T.png\n",
            "[%] File Downloaded !\n",
            "\n",
            "[%] Downloading Image #32 from http://images.fastcompany.com/upload/varian1.jpg\n",
            "[%] File Downloaded !\n",
            "\n",
            "[%] Downloading Image #33 from https://www.ellipticalreviews.com/wp-content/uploads/2017/01/true-es700-elliptical.jpg\n",
            "[%] File Downloaded !\n",
            "\n",
            "[%] Downloading Image #34 from https://buymetalroofingtools.com/wp-content/uploads/2020/11/ese-true-90-rolling-edge-bender-from-rapidmaterials.jpg\n",
            "[%] File Downloaded !\n",
            "\n",
            "[%] Downloading Image #35 from https://media.thetab.com/blogs.dir/106/files/2016/03/20100330vendor-1024x680.jpg\n",
            "[%] File Downloaded !\n",
            "\n",
            "[%] Downloading Image #36 from https://reclusivefox.com/wp-content/uploads/2014/09/LG-True-Steam.jpg\n",
            "[%] File Downloaded !\n",
            "\n",
            "[%] Downloading Image #37 from https://www.truecncmachining.com/wp-content/uploads/2016/10/Manufacturing_01a.jpg\n",
            "[%] File Downloaded !\n",
            "\n",
            "[%] Downloading Image #38 from https://www.vivian-ice-machines.com/cmss_files/imagelibrary/Product Images/True/td-36-12.JPG\n",
            "[!] Issue getting: https://www.vivian-ice-machines.com/cmss_files/imagelibrary/Product Images/True/td-36-12.JPG\n",
            "[!] Error:: URL can't contain control characters. '/cmss_files/imagelibrary/Product Images/True/td-36-12.JPG' (found at least ' ')\n",
            "[%] Downloading Image #38 from https://i.pinimg.com/474x/11/35/67/1135671769c4bdf99d02b940dfe3dbe9--old-sewing-machines-true-beauty.jpg\n",
            "[%] File Downloaded !\n",
            "\n",
            "[%] Downloading Image #39 from https://buymetalroofingtools.com/wp-content/uploads/2020/11/ese-true-180-rolling-edge-bender-from-rapidmaterials-600x600.jpg\n",
            "[%] File Downloaded !\n",
            "\n",
            "[%] Downloading Image #40 from http://www.checktop10.in/wp-content/uploads/2016/10/LG-Washing-Machine-coverimg.png\n",
            "[%] File Downloaded !\n",
            "\n",
            "[%] Downloading Image #41 from https://www.vivian-ice-machines.com/cmss_files/imagelibrary/Product Images/True/tdd-4s.JPG\n",
            "[!] Issue getting: https://www.vivian-ice-machines.com/cmss_files/imagelibrary/Product Images/True/tdd-4s.JPG\n",
            "[!] Error:: URL can't contain control characters. '/cmss_files/imagelibrary/Product Images/True/tdd-4s.JPG' (found at least ' ')\n",
            "[%] Downloading Image #41 from https://www.practicalmachinist.com/vb/attachments/f19/130459d1423832716-tried-true-tools-vintage-machines-20150212_123541.jpg\n",
            "[%] File Downloaded !\n",
            "\n",
            "[%] Downloading Image #42 from https://www.vivian-ice-machines.com/cmss_files/imagelibrary/Product%20Images/True/tdd-3s.JPG\n",
            "[%] File Downloaded !\n",
            "\n",
            "[%] Downloading Image #43 from http://matsuurausa.com/wp-content/uploads/GO-3.23.18-a.jpg\n",
            "[%] File Downloaded !\n",
            "\n",
            "[%] Downloading Image #44 from https://www.practicalmachinist.com/vb/attachments/f19/130461d1423832780-tried-true-tools-vintage-machines-20150212_123656.jpg\n",
            "[%] File Downloaded !\n",
            "\n",
            "[%] Downloading Image #45 from https://www.practicalmachinist.com/vb/attachments/f19/130460d1423832722-tried-true-tools-vintage-machines-20150212_123551.jpg\n",
            "[%] File Downloaded !\n",
            "\n",
            "[%] Downloading Image #46 from https://intmowers.com.au/wp-content/uploads/custom-machines-4.jpg\n",
            "[%] File Downloaded !\n",
            "\n",
            "\n",
            "\n",
            "[!!]Indexing page: 2\n",
            "\n",
            "[%] Indexed 35 Images on Page 2.\n",
            "\n",
            "===============================================\n",
            "\n",
            "[%] Downloading Image #47 from https://www.allellipticals.com/images/TRUE-M50-elliptical.jpg\n",
            "[%] File Downloaded !\n",
            "\n",
            "[%] Downloading Image #48 from https://www.gympros.com/wp-content/uploads/2019/05/TRUE-FITNESS-LEG-CALF-PRESS.jpg\n",
            "[%] File Downloaded !\n",
            "\n",
            "[%] Downloading Image #49 from https://i.pinimg.com/736x/0b/20/89/0b20896825907a78f72aec1412347b57--vending-machine-glass.jpg\n",
            "[%] File Downloaded !\n",
            "\n",
            "[%] Downloading Image #50 from http://fitness4home.com/wp-content/uploads/2014/01/cs400e_model2.jpg\n",
            "[%] File Downloaded !\n",
            "\n",
            "\n",
            "\n",
            "[%] Done. Downloaded 50 images.\n",
            "===============================================\n",
            "\n",
            "Please show your support here\n",
            "https://www.buymeacoffee.com/gurugaurav\n",
            "\n",
            "===============================================\n",
            "\n"
          ],
          "name": "stdout"
        }
      ]
    },
    {
      "cell_type": "code",
      "metadata": {
        "id": "0AhKujLllvST"
      },
      "source": [
        "import os\n",
        "import numpy as np\n",
        "import pandas as pd\n",
        "import matplotlib.pyplot as plt\n",
        "from skimage.io import imread\n",
        "from skimage.transform import resize\n",
        "\n",
        "datadir = '/content/images'\n",
        "\n",
        "categories = ['humans','animals','machines']\n",
        "target = []\n",
        "images= []\n",
        "flat_data = []\n",
        "\n",
        "for i in categories:\n",
        "  class_num = categories.index(i)\n",
        "  path = os.path.join(datadir,i)\n",
        "  for img in os.listdir(path):\n",
        "    img_array = imread(os.path.join(path,img))\n",
        "    img_resize = resize(img_array,(150,150,3))\n",
        "    flat_data.append(img_resize.flatten())\n",
        "    images.append(img_resize)\n",
        "    target.append(class_num)\n",
        "\n",
        "flat_data = np.array(flat_data)\n",
        "target = np.array(target)\n",
        "images = np.array(images)"
      ],
      "execution_count": 7,
      "outputs": []
    },
    {
      "cell_type": "code",
      "metadata": {
        "colab": {
          "base_uri": "https://localhost:8080/"
        },
        "id": "0hkp8rGcrUVf",
        "outputId": "0e35eaaf-2e03-4f11-ea12-0ac8eef67c61"
      },
      "source": [
        "flat_data[0]"
      ],
      "execution_count": 8,
      "outputs": [
        {
          "output_type": "execute_result",
          "data": {
            "text/plain": [
              "array([0.49236601, 0.49236601, 0.50696732, ..., 0.32896732, 0.29824837,\n",
              "       0.27097821])"
            ]
          },
          "metadata": {
            "tags": []
          },
          "execution_count": 8
        }
      ]
    },
    {
      "cell_type": "code",
      "metadata": {
        "id": "392ZivRBuIWb"
      },
      "source": [
        "from sklearn.model_selection import train_test_split\n",
        "x_train, x_test, y_train, y_test = train_test_split(flat_data, target, test_size=0.30, random_state=42)"
      ],
      "execution_count": 9,
      "outputs": []
    },
    {
      "cell_type": "code",
      "metadata": {
        "colab": {
          "base_uri": "https://localhost:8080/"
        },
        "id": "AwATVihZvZ0I",
        "outputId": "b1a29729-3af3-47cd-9076-16399adfb5d9"
      },
      "source": [
        "from sklearn.model_selection import GridSearchCV\n",
        "from sklearn import svm\n",
        "param_grid = [\n",
        "              {'C':[1,10,100,1000],'kernel':['linear']},\n",
        "              {'C':[1,10,100,1000],'gamma':[0.001,0.0001],'kernel':['rbf']}\n",
        "]\n",
        "svc = svm.SVC(probability = True)\n",
        "clf = GridSearchCV(svc,param_grid)\n",
        "clf.fit(x_train, y_train)"
      ],
      "execution_count": 10,
      "outputs": [
        {
          "output_type": "execute_result",
          "data": {
            "text/plain": [
              "GridSearchCV(cv=None, error_score=nan,\n",
              "             estimator=SVC(C=1.0, break_ties=False, cache_size=200,\n",
              "                           class_weight=None, coef0=0.0,\n",
              "                           decision_function_shape='ovr', degree=3,\n",
              "                           gamma='scale', kernel='rbf', max_iter=-1,\n",
              "                           probability=True, random_state=None, shrinking=True,\n",
              "                           tol=0.001, verbose=False),\n",
              "             iid='deprecated', n_jobs=None,\n",
              "             param_grid=[{'C': [1, 10, 100, 1000], 'kernel': ['linear']},\n",
              "                         {'C': [1, 10, 100, 1000], 'gamma': [0.001, 0.0001],\n",
              "                          'kernel': ['rbf']}],\n",
              "             pre_dispatch='2*n_jobs', refit=True, return_train_score=False,\n",
              "             scoring=None, verbose=0)"
            ]
          },
          "metadata": {
            "tags": []
          },
          "execution_count": 10
        }
      ]
    },
    {
      "cell_type": "code",
      "metadata": {
        "colab": {
          "base_uri": "https://localhost:8080/"
        },
        "id": "dJGGi6iD8s6l",
        "outputId": "2f70e8d2-1d8f-4472-e677-91dc24cbc373"
      },
      "source": [
        "y_pred = clf.predict(x_test)\n",
        "y_pred"
      ],
      "execution_count": 11,
      "outputs": [
        {
          "output_type": "execute_result",
          "data": {
            "text/plain": [
              "array([0, 0, 2, 0, 1, 0, 1, 1, 1, 0, 0, 0, 0, 1, 0, 1, 0, 0, 1, 2, 0, 2,\n",
              "       0, 2, 1, 2, 2, 1, 1, 0, 0, 0, 1, 0, 0, 1, 1, 0, 0, 0, 1, 1, 1, 0,\n",
              "       2])"
            ]
          },
          "metadata": {
            "tags": []
          },
          "execution_count": 11
        }
      ]
    },
    {
      "cell_type": "code",
      "metadata": {
        "colab": {
          "base_uri": "https://localhost:8080/"
        },
        "id": "dWEyBwgxAXKp",
        "outputId": "b9df8096-1447-4e58-c65f-de81cc5f43b7"
      },
      "source": [
        "y_test"
      ],
      "execution_count": 12,
      "outputs": [
        {
          "output_type": "execute_result",
          "data": {
            "text/plain": [
              "array([1, 0, 2, 1, 1, 0, 1, 2, 1, 1, 2, 0, 0, 0, 0, 1, 2, 1, 1, 2, 0, 2,\n",
              "       0, 2, 2, 2, 2, 2, 0, 0, 0, 0, 1, 0, 0, 2, 1, 0, 0, 0, 2, 1, 1, 0,\n",
              "       0])"
            ]
          },
          "metadata": {
            "tags": []
          },
          "execution_count": 12
        }
      ]
    },
    {
      "cell_type": "code",
      "metadata": {
        "colab": {
          "base_uri": "https://localhost:8080/"
        },
        "id": "JpoOkp1BAcZp",
        "outputId": "0dd9497d-8edb-4547-b25c-3c974dc99df6"
      },
      "source": [
        "from sklearn.metrics import accuracy_score, confusion_matrix\n",
        "accuracy_score(y_pred,y_test)"
      ],
      "execution_count": 13,
      "outputs": [
        {
          "output_type": "execute_result",
          "data": {
            "text/plain": [
              "0.6888888888888889"
            ]
          },
          "metadata": {
            "tags": []
          },
          "execution_count": 13
        }
      ]
    },
    {
      "cell_type": "code",
      "metadata": {
        "colab": {
          "base_uri": "https://localhost:8080/"
        },
        "id": "K-QLuNCeA7gu",
        "outputId": "a5272a22-f868-4b2a-eacd-697066193bc8"
      },
      "source": [
        "confusion_matrix(y_pred,y_test)"
      ],
      "execution_count": 18,
      "outputs": [
        {
          "output_type": "execute_result",
          "data": {
            "text/plain": [
              "array([[16,  4,  2],\n",
              "       [ 2,  9,  5],\n",
              "       [ 1,  0,  6]])"
            ]
          },
          "metadata": {
            "tags": []
          },
          "execution_count": 18
        }
      ]
    },
    {
      "cell_type": "code",
      "metadata": {
        "id": "O8RKnsBTBT_5"
      },
      "source": [
        "import pickle\n",
        "pickle.dump(clf,open('img_model.p','wb'))"
      ],
      "execution_count": 19,
      "outputs": []
    },
    {
      "cell_type": "code",
      "metadata": {
        "id": "zbwqmRuxBxGj"
      },
      "source": [
        "model = pickle.load(open('img_model.p','rb'))"
      ],
      "execution_count": 20,
      "outputs": []
    },
    {
      "cell_type": "code",
      "metadata": {
        "colab": {
          "base_uri": "https://localhost:8080/",
          "height": 341
        },
        "id": "a43iV7oZCRPC",
        "outputId": "27c030c8-2a49-4a3a-99c0-c2771d6cfa1b"
      },
      "source": [
        "flat_data = []\n",
        "url = input(\"Enter your data:\")\n",
        "img = imread(url)\n",
        "img_resized = resize(img,(150,150,3))\n",
        "flat_data.append(img_resized.flatten())\n",
        "flat_data = np.array(flat_data)\n",
        "print(img.shape)\n",
        "plt.imshow(img_resized)\n",
        "y_out = model.predict(flat_data)\n",
        "y_out = categories[y_out[0]]\n",
        "print(f'predicted output:{y_out}')"
      ],
      "execution_count": 21,
      "outputs": [
        {
          "output_type": "stream",
          "text": [
            "Enter your data:https://i.natgeofe.com/n/bec7bd50-0d57-4982-aeb5-82e5f8184f89/02-machine-saving-animals-nationalgeographic_1977490.jpg\n",
            "(2048, 3072, 3)\n",
            "predicted output:animals\n"
          ],
          "name": "stdout"
        },
        {
          "output_type": "display_data",
          "data": {
            "image/png": "[encoded data removed]",
            "text/plain": [
              "<Figure size 432x288 with 1 Axes>"
            ]
          },
          "metadata": {
            "tags": [],
            "needs_background": "light"
          }
        }
      ]
    },
    {
      "cell_type": "code",
      "metadata": {
        "id": "V8QvRwwdE6Fs"
      },
      "source": [
        "\n"
      ],
      "execution_count": 25,
      "outputs": []
    },
    {
      "cell_type": "code",
      "metadata": {
        "id": "D0exQQ9OEaOC"
      },
      "source": [
        ""
      ],
      "execution_count": 25,
      "outputs": []
    },
    {
      "cell_type": "code",
      "metadata": {
        "id": "ZTlP5XdvM7E6"
      },
      "source": [
        ""
      ],
      "execution_count": 25,
      "outputs": []
    },
    {
      "cell_type": "code",
      "metadata": {
        "id": "uGsozSS_NW0Y"
      },
      "source": [
        ""
      ],
      "execution_count": null,
      "outputs": []
    }
  ]
}